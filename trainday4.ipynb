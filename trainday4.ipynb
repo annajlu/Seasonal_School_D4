{
 "cells": [
  {
   "cell_type": "code",
   "execution_count": 1,
   "id": "6f7d869f-ad25-49d6-b9d8-31eee3a86a13",
   "metadata": {
    "scrolled": true
   },
   "outputs": [
    {
     "name": "stderr",
     "output_type": "stream",
     "text": [
      "\n",
      "Attaching package: ‘dplyr’\n",
      "\n",
      "\n",
      "The following objects are masked from ‘package:stats’:\n",
      "\n",
      "    filter, lag\n",
      "\n",
      "\n",
      "The following objects are masked from ‘package:base’:\n",
      "\n",
      "    intersect, setdiff, setequal, union\n",
      "\n",
      "\n",
      "Warning message in system(\"timedatectl\", intern = TRUE):\n",
      "“running command 'timedatectl' had status 1”\n",
      "── \u001b[1mAttaching packages\u001b[22m ─────────────────────────────────────── tidyverse 1.3.1 ──\n",
      "\n",
      "\u001b[32m✔\u001b[39m \u001b[34mggplot2\u001b[39m 3.5.1     \u001b[32m✔\u001b[39m \u001b[34mpurrr  \u001b[39m 1.0.2\n",
      "\u001b[32m✔\u001b[39m \u001b[34mtibble \u001b[39m 3.2.1     \u001b[32m✔\u001b[39m \u001b[34mstringr\u001b[39m 1.5.1\n",
      "\u001b[32m✔\u001b[39m \u001b[34mtidyr  \u001b[39m 1.3.1     \u001b[32m✔\u001b[39m \u001b[34mforcats\u001b[39m 1.0.0\n",
      "\u001b[32m✔\u001b[39m \u001b[34mreadr  \u001b[39m 2.1.5     \n",
      "\n",
      "── \u001b[1mConflicts\u001b[22m ────────────────────────────────────────── tidyverse_conflicts() ──\n",
      "\u001b[31m✖\u001b[39m \u001b[34mdplyr\u001b[39m::\u001b[32mfilter()\u001b[39m masks \u001b[34mstats\u001b[39m::filter()\n",
      "\u001b[31m✖\u001b[39m \u001b[34mdplyr\u001b[39m::\u001b[32mlag()\u001b[39m    masks \u001b[34mstats\u001b[39m::lag()\n",
      "\n"
     ]
    }
   ],
   "source": [
    "library(dplyr)\n",
    "library(tidyverse)"
   ]
  },
  {
   "cell_type": "code",
   "execution_count": 2,
   "id": "2098e0cd-ae1b-48ba-8ec4-26a3cb4fbfc9",
   "metadata": {},
   "outputs": [],
   "source": [
    "bioclim <- read.csv(\"gbif_bioclim.csv\")\n",
    "trait <- read.csv(\"try_reduced.csv\")"
   ]
  },
  {
   "cell_type": "code",
   "execution_count": 30,
   "id": "54e9df47-b484-4d8b-8d06-f852cc5a056b",
   "metadata": {},
   "outputs": [
    {
     "name": "stdout",
     "output_type": "stream",
     "text": [
      "'data.frame':\t52323 obs. of  5 variables:\n",
      " $ X          : int  1 2 3 4 5 6 7 8 9 10 ...\n",
      " $ SpeciesName: chr  \"Castanea sativa\" \"Fagus sylvatica\" \"Larix decidua\" \"Picea sitchensis\" ...\n",
      " $ TraitName  : chr  \"Seed dry mass\" \"Seed dry mass\" \"Seed dry mass\" \"Seed dry mass\" ...\n",
      " $ StdValue   : num  1433 158 6.24 2.94 6.19 ...\n",
      " $ UnitName   : chr  \"mg\" \"mg\" \"mg\" \"mg\" ...\n",
      "'data.frame':\t43799 obs. of  24 variables:\n",
      " $ scientificName: chr  \"Quercus robur L.\" \"Fagus sylvatica L.\" \"Quercus palustris Münchh.\" \"Quercus robur L.\" ...\n",
      " $ countryCode   : chr  \"DE\" \"DE\" \"DE\" \"DE\" ...\n",
      " $ species       : chr  \"Quercus robur\" \"Fagus sylvatica\" \"Quercus palustris\" \"Quercus robur\" ...\n",
      " $ x             : num  13.2 10.64 12.39 12.51 9.59 ...\n",
      " $ y             : num  52.5 52.1 51.4 50.7 51.5 ...\n",
      " $ BIO1          : num  283 282 283 282 282 ...\n",
      " $ BIO2          : num  11.6 11.6 11.8 12.5 11.3 ...\n",
      " $ BIO3          : num  23.4 24.1 23.7 31 29 ...\n",
      " $ BIO4          : num  697 653 689 683 636 ...\n",
      " $ BIO5          : num  302 300 301 299 299 ...\n",
      " $ BIO6          : num  252 252 251 259 260 ...\n",
      " $ BIO7          : num  49.4 48 49.9 40.3 39 ...\n",
      " $ BIO8          : num  291 290 291 289 289 ...\n",
      " $ BIO9          : num  286 285 286 285 285 ...\n",
      " $ BIO10         : num  291 290 291 289 289 ...\n",
      " $ BIO11         : num  275 275 275 274 275 ...\n",
      " $ BIO12         : num  0.689 0.795 0.72 0.951 0.846 ...\n",
      " $ BIO13         : num  0.249 0.212 0.182 0.215 0.278 ...\n",
      " $ BIO14         : num  0.002274 0.004178 0.000914 0.001735 0.002068 ...\n",
      " $ BIO15         : num  4.28 3.99 3.99 3.85 3.92 ...\n",
      " $ BIO16         : num  9.22 10.37 9.3 12.09 10.73 ...\n",
      " $ BIO17         : num  7.97 9.32 8.28 11.25 10.2 ...\n",
      " $ BIO18         : num  9.22 10.37 9.3 12.09 10.73 ...\n",
      " $ BIO19         : num  8.2 9.61 8.95 11.7 10.45 ...\n"
     ]
    }
   ],
   "source": [
    "str(trait)\n",
    "str(bioclim)"
   ]
  },
  {
   "cell_type": "code",
   "execution_count": 31,
   "id": "97d4c4f7-e157-45a6-b273-dadec8b8756a",
   "metadata": {},
   "outputs": [],
   "source": [
    "dispersal_sum <- trait %>% \n",
    "        filter(TraitName == \"Seed dry mass\") %>% \n",
    "        group_by(SpeciesName) %>% \n",
    "        summarize(mean_sdm = mean(StdValue, na.rm = TRUE)) %>% \n",
    "        arrange(-mean_sdm)\n",
    "                         "
   ]
  },
  {
   "cell_type": "code",
   "execution_count": 22,
   "id": "3576ef7f-c8d0-4155-ac62-5de4e41df1b2",
   "metadata": {},
   "outputs": [
    {
     "name": "stdout",
     "output_type": "stream",
     "text": [
      "tibble [41 × 2] (S3: tbl_df/tbl/data.frame)\n",
      " $ SpeciesName  : chr [1:41] \"Castanea sativa\" \"Quercus cerris\" \"Quercus rubra\" \"Quercus robur\" ...\n",
      " $ std_value_avg: num [1:41] 3783 3083 2752 2708 1931 ...\n"
     ]
    }
   ],
   "source": [
    "str(dispersal_sum)"
   ]
  },
  {
   "cell_type": "code",
   "execution_count": 32,
   "id": "1c90e947-c094-4dda-9a6d-2fb36faba7c6",
   "metadata": {},
   "outputs": [
    {
     "name": "stdout",
     "output_type": "stream",
     "text": [
      "tibble [112 × 3] (S3: tbl_df/tbl/data.frame)\n",
      " $ species: chr [1:112] \"Abies alba\" \"Abies amabilis\" \"Abies balsamea\" \"Abies cephalonica\" ...\n",
      " $ BIO12  : num [1:112] 1.201 0.894 0.941 1.022 0.83 ...\n",
      " $ n      : int [1:112] 1128 12 1 10 46 4 42 3 58 2 ...\n"
     ]
    }
   ],
   "source": [
    "bioclim12_sum <- bioclim %>% group_by(species) %>% \n",
    "                           summarise(BIO12 = mean(BIO12, na.rm = TRUE), n = n())\n",
    "str(bioclim12_sum)"
   ]
  },
  {
   "cell_type": "code",
   "execution_count": 33,
   "id": "92db22fb-6d48-40eb-ab1d-f7792e8c95f4",
   "metadata": {},
   "outputs": [
    {
     "name": "stdout",
     "output_type": "stream",
     "text": [
      "tibble [112 × 4] (S3: tbl_df/tbl/data.frame)\n",
      " $ species : chr [1:112] \"Abies alba\" \"Abies amabilis\" \"Abies balsamea\" \"Abies cephalonica\" ...\n",
      " $ BIO12   : num [1:112] 1.201 0.894 0.941 1.022 0.83 ...\n",
      " $ n       : int [1:112] 1128 12 1 10 46 4 42 3 58 2 ...\n",
      " $ mean_sdm: num [1:112] 64.4 NA NA NA 35.5 ...\n"
     ]
    }
   ],
   "source": [
    "trait_bio_join <- left_join(bioclim12_sum,dispersal_sum, by = c(\"species\" = \"SpeciesName\"))\n",
    "str(trait_bio_join)"
   ]
  },
  {
   "cell_type": "code",
   "execution_count": 34,
   "id": "54f6cdf2-8af2-4732-ae3d-f09e325da771",
   "metadata": {},
   "outputs": [
    {
     "name": "stderr",
     "output_type": "stream",
     "text": [
      "Warning message:\n",
      "“\u001b[1m\u001b[22mRemoved 73 rows containing missing values or values outside the scale range\n",
      "(`geom_point()`).”\n"
     ]
    },
    {
     "data": {
      "image/png": "[encoded data removed]",
      "text/plain": [
       "plot without title"
      ]
     },
     "metadata": {
      "image/png": {
       "height": 420,
       "width": 420
      }
     },
     "output_type": "display_data"
    }
   ],
   "source": [
    "ggplot(trait_bio_join, aes(BIO12, mean_sdm )) + geom_point()"
   ]
  }
 ],
 "metadata": {
  "kernelspec": {
   "display_name": "R",
   "language": "R",
   "name": "ir"
  },
  "language_info": {
   "codemirror_mode": "r",
   "file_extension": ".r",
   "mimetype": "text/x-r-source",
   "name": "R",
   "pygments_lexer": "r",
   "version": "4.1.2"
  }
 },
 "nbformat": 4,
 "nbformat_minor": 5
}
